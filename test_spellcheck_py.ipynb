{
  "nbformat": 4,
  "nbformat_minor": 0,
  "metadata": {
    "colab": {
      "provenance": [],
      "mount_file_id": "15T8N8pK0iOcn8VIrlu18eoq5XBE6vhdm",
      "authorship_tag": "ABX9TyMR5jOq14co6jU3d72jME2M",
      "include_colab_link": true
    },
    "kernelspec": {
      "name": "python3",
      "display_name": "Python 3"
    },
    "language_info": {
      "name": "python"
    }
  },
  "cells": [
    {
      "cell_type": "markdown",
      "metadata": {
        "id": "view-in-github",
        "colab_type": "text"
      },
      "source": [
        "<a href=\"https://colab.research.google.com/github/Basifrank/spell_check_code/blob/main/test_spellcheck_py.ipynb\" target=\"_parent\"><img src=\"https://colab.research.google.com/assets/colab-badge.svg\" alt=\"Open In Colab\"/></a>"
      ]
    },
    {
      "cell_type": "code",
      "source": [
        "from google.colab import drive\n",
        "drive.mount('/content/drive')"
      ],
      "metadata": {
        "colab": {
          "base_uri": "https://localhost:8080/"
        },
        "id": "_ZmumlEs6ixV",
        "outputId": "0a456813-cc45-4bea-abf2-1031ab535e3a"
      },
      "execution_count": null,
      "outputs": [
        {
          "output_type": "stream",
          "name": "stdout",
          "text": [
            "Drive already mounted at /content/drive; to attempt to forcibly remount, call drive.mount(\"/content/drive\", force_remount=True).\n"
          ]
        }
      ]
    },
    {
      "cell_type": "code",
      "source": [
        "import sys\n",
        "sys.path.insert(0,'/content/drive/MyDrive/Backend Python Cousera')"
      ],
      "metadata": {
        "id": "Ue9vO9JX8nC9"
      },
      "execution_count": null,
      "outputs": []
    },
    {
      "cell_type": "code",
      "source": [
        " import spellcheck2"
      ],
      "metadata": {
        "id": "s6lDjgdO_X1H",
        "colab": {
          "base_uri": "https://localhost:8080/"
        },
        "outputId": "dd365ad2-0eca-4f87-b7ba-6eeb73896056"
      },
      "execution_count": null,
      "outputs": [
        {
          "output_type": "stream",
          "name": "stdout",
          "text": [
            "Drive already mounted at /content/drive; to attempt to forcibly remount, call drive.mount(\"/content/drive\", force_remount=True).\n"
          ]
        }
      ]
    },
    {
      "cell_type": "code",
      "execution_count": null,
      "metadata": {
        "id": "hYhWf7Yx5JJI"
      },
      "outputs": [],
      "source": [
        "'''\n",
        "Import statements:\n",
        "    1. Import pytest and spellcheck modules\n",
        "'''\n",
        "### WRITE IMPORT STATEMENTS HERE\n",
        "import pytest\n",
        "import spellcheck2\n",
        "\n",
        "# String variables to be tested\n",
        "alpha = \"Checking the length & structure of the sentence.\"\n",
        "#beta = \"This sentence should fail the test\"\n"
      ]
    },
    {
      "cell_type": "code",
      "source": [
        "spellcheck2.char_count(alpha) == 50"
      ],
      "metadata": {
        "colab": {
          "base_uri": "https://localhost:8080/"
        },
        "id": "tfZgKvAm95rd",
        "outputId": "51fc5382-a93a-4c53-cf68-a1b4633fb323"
      },
      "execution_count": null,
      "outputs": [
        {
          "output_type": "stream",
          "name": "stdout",
          "text": [
            "48\n"
          ]
        },
        {
          "output_type": "execute_result",
          "data": {
            "text/plain": [
              "False"
            ]
          },
          "metadata": {},
          "execution_count": 44
        }
      ]
    },
    {
      "cell_type": "code",
      "source": [
        "\n",
        "# Do not delete this function. You may change the value assigned to input to test different inputs to your test functions.\n",
        "@pytest.fixture\n",
        "def input_value():\n",
        "    input = alpha\n",
        "    return input\n"
      ],
      "metadata": {
        "id": "2UqGwR2i6la_"
      },
      "execution_count": null,
      "outputs": []
    },
    {
      "cell_type": "code",
      "source": [],
      "metadata": {
        "id": "rit5v5cj9bK4"
      },
      "execution_count": null,
      "outputs": []
    },
    {
      "cell_type": "code",
      "source": [
        "\n",
        "# First test function test_length()\n",
        "\n",
        "def test_length(input_value):\n",
        "    \"\"\" Tests whether a string has fewer than 10 words and fewer than 50 chars.\n",
        "\n",
        "    [IMPLEMENT ME]\n",
        "        1. Use an assert statement to check the given string has fewer than 10 words\n",
        "        2. Use an assert statement to check the given string has fewer than 50 chars\n",
        "\n",
        "    Args:\n",
        "      input_value: a function that returns a string, which can be configured\n",
        "                   in the input_value() function\n",
        "    \"\"\"\n",
        "    ### WRITE SOLUTION CODE HERE\n",
        "\n",
        "    assert spellcheck2.word_count(input_value) < 10\n",
        "    assert spellcheck2.char_count(input_value) < 50\n",
        "\n",
        "    raise NotImplementedError()\n",
        "\n",
        "# Second test function test_struc()\n",
        "\n",
        "def test_struc(input_value):\n",
        "    \"\"\" Tests whether a string begins with a capital letter and ends with a period.\n",
        "\n",
        "    [IMPLEMENT ME]\n",
        "        1. Use an assert statement to check the given string begins with a capital letter\n",
        "        2. Use an assert statement to check the given string end with a period ('.')\n",
        "\n",
        "    Args:\n",
        "      input_value: a function that returns a string, which can be configured\n",
        "                   in the input_value() function\n",
        "    \"\"\"\n",
        "    ### WRITE SOLUTION CODE HERE\n",
        "    #input_value = input_value()\n",
        "\n",
        "    assert spellcheck2.first_char(input_value).isupper()\n",
        "    assert spellcheck2.last_char(input_value) == \".\"\n",
        "\n",
        "    raise NotImplementedError()\n",
        "\n",
        "# Run these tests with `python3 -m pytest test_spellcheck.py`"
      ],
      "metadata": {
        "id": "JeoJRAqN6ljp"
      },
      "execution_count": null,
      "outputs": []
    },
    {
      "cell_type": "code",
      "source": [],
      "metadata": {
        "id": "wWmy5wpT6lon",
        "colab": {
          "base_uri": "https://localhost:8080/",
          "height": 144
        },
        "outputId": "927fc636-9485-4b1e-bb91-0dfd1a45c3cf"
      },
      "execution_count": null,
      "outputs": [
        {
          "output_type": "error",
          "ename": "SyntaxError",
          "evalue": "ignored",
          "traceback": [
            "\u001b[0;36m  File \u001b[0;32m\"<ipython-input-47-31c1e32bf9dd>\"\u001b[0;36m, line \u001b[0;32m1\u001b[0m\n\u001b[0;31m    python3 -m pytest test_spellcheck.py\u001b[0m\n\u001b[0m               ^\u001b[0m\n\u001b[0;31mSyntaxError\u001b[0m\u001b[0;31m:\u001b[0m invalid syntax\n"
          ]
        }
      ]
    }
  ]
}